{
 "cells": [
  {
   "cell_type": "code",
   "execution_count": 353,
   "metadata": {},
   "outputs": [],
   "source": [
    "import numpy as np\n",
    "import matplotlib.pyplot as plt\n",
    "import pandas as pd\n",
    "import seaborn as sns"
   ]
  },
  {
   "cell_type": "code",
   "execution_count": 354,
   "metadata": {},
   "outputs": [],
   "source": [
    "import warnings\n",
    "warnings.filterwarnings('ignore')"
   ]
  },
  {
   "cell_type": "code",
   "execution_count": 355,
   "metadata": {},
   "outputs": [],
   "source": [
    "dataset = pd.read_csv('./Melbourne_housing_FULL.csv')\n",
    "# dataset.head()"
   ]
  },
  {
   "cell_type": "code",
   "execution_count": 356,
   "metadata": {},
   "outputs": [],
   "source": [
    "# dataset.nunique()"
   ]
  },
  {
   "cell_type": "code",
   "execution_count": 357,
   "metadata": {},
   "outputs": [
    {
     "data": {
      "text/plain": [
       "(34857, 21)"
      ]
     },
     "execution_count": 357,
     "metadata": {},
     "output_type": "execute_result"
    }
   ],
   "source": [
    "dataset.shape"
   ]
  },
  {
   "cell_type": "code",
   "execution_count": 358,
   "metadata": {},
   "outputs": [
    {
     "data": {
      "text/plain": [
       "(34857, 11)"
      ]
     },
     "execution_count": 358,
     "metadata": {},
     "output_type": "execute_result"
    }
   ],
   "source": [
    "#cols_to_use = ['Suburb','Rooms','Type','Method','SellerG','Regionname','Propertycount', \n",
    "#               'Distance','CouncilArea','Bedroom2','Bathroom','Car','Landsize','BuildingArea', 'Price']\n",
    "cols_to_use = ['Price','Landsize','BuildingArea','Distance','Rooms','Bedroom2','Bathroom','Car',\n",
    "               'Suburb','Type','Method']\n",
    "dataset = dataset[cols_to_use]\n",
    "dataset.head()\n",
    "dataset.shape"
   ]
  },
  {
   "cell_type": "code",
   "execution_count": 359,
   "metadata": {},
   "outputs": [
    {
     "data": {
      "text/plain": [
       "Price            7610\n",
       "Landsize        11810\n",
       "BuildingArea    21115\n",
       "Distance            1\n",
       "Rooms               0\n",
       "Bedroom2         8217\n",
       "Bathroom         8226\n",
       "Car              8728\n",
       "Suburb              0\n",
       "Type                0\n",
       "Method              0\n",
       "dtype: int64"
      ]
     },
     "execution_count": 359,
     "metadata": {},
     "output_type": "execute_result"
    }
   ],
   "source": [
    "dataset.isna().sum()"
   ]
  },
  {
   "cell_type": "code",
   "execution_count": 360,
   "metadata": {},
   "outputs": [
    {
     "data": {
      "text/plain": [
       "Price            7610\n",
       "Landsize        11810\n",
       "BuildingArea    21115\n",
       "Distance            0\n",
       "Rooms               0\n",
       "Bedroom2            0\n",
       "Bathroom            0\n",
       "Car                 0\n",
       "Suburb              0\n",
       "Type                0\n",
       "Method              0\n",
       "dtype: int64"
      ]
     },
     "execution_count": 360,
     "metadata": {},
     "output_type": "execute_result"
    }
   ],
   "source": [
    "# cols_to_fill_zero = ['Propertycount','Distance','Bedroom2','Bathroom','Car']\n",
    "cols_to_fill_zero = ['Distance','Bedroom2','Bathroom','Car']\n",
    "\n",
    "dataset[cols_to_fill_zero] = dataset[cols_to_fill_zero].fillna(0)\n",
    "dataset.isna().sum()"
   ]
  },
  {
   "cell_type": "code",
   "execution_count": 376,
   "metadata": {},
   "outputs": [
    {
     "data": {
      "text/plain": [
       "<AxesSubplot:ylabel='Frequency'>"
      ]
     },
     "execution_count": 376,
     "metadata": {},
     "output_type": "execute_result"
    },
    {
     "data": {
      "image/png": "[encoded data removed]",
      "text/plain": [
       "<Figure size 432x288 with 1 Axes>"
      ]
     },
     "metadata": {
      "needs_background": "light"
     },
     "output_type": "display_data"
    }
   ],
   "source": [
    "dataset['Landsize'] = dataset['Landsize'].fillna(dataset.Landsize.mean())\n",
    "dataset['Landsize'] = dataset['Landsize'].   replace(0,dataset.Landsize.mean())\n",
    "dataset['BuildingArea'] = dataset['BuildingArea'].fillna(dataset.BuildingArea.mean())\n",
    "dataset[dataset[\"Rooms\"   ] >= 8] = np.nan\n",
    "dataset[dataset[\"Bedroom2\"] >= 8] = np.nan\n",
    "dataset[dataset[\"Bathroom\"] >= 5] = np.nan\n",
    "dataset[dataset[\"Car\"     ] >= 5] = np.nan\n",
    "dataset.isna().sum()\n",
    "\n",
    "dataset['Landsize'].plot.hist(bins=100, alpha=0.5)"
   ]
  },
  {
   "cell_type": "code",
   "execution_count": 362,
   "metadata": {},
   "outputs": [
    {
     "data": {
      "text/plain": [
       "Price           0\n",
       "Landsize        0\n",
       "BuildingArea    0\n",
       "Distance        0\n",
       "Rooms           0\n",
       "Bedroom2        0\n",
       "Bathroom        0\n",
       "Car             0\n",
       "Suburb          0\n",
       "Type            0\n",
       "Method          0\n",
       "dtype: int64"
      ]
     },
     "execution_count": 362,
     "metadata": {},
     "output_type": "execute_result"
    }
   ],
   "source": [
    "dataset.dropna(inplace=True)\n",
    "dataset.isna().sum()"
   ]
  },
  {
   "cell_type": "code",
   "execution_count": 363,
   "metadata": {},
   "outputs": [
    {
     "data": {
      "text/html": [
       "<div>\n",
       "<style scoped>\n",
       "    .dataframe tbody tr th:only-of-type {\n",
       "        vertical-align: middle;\n",
       "    }\n",
       "\n",
       "    .dataframe tbody tr th {\n",
       "        vertical-align: top;\n",
       "    }\n",
       "\n",
       "    .dataframe thead th {\n",
       "        text-align: right;\n",
       "    }\n",
       "</style>\n",
       "<table border=\"1\" class=\"dataframe\">\n",
       "  <thead>\n",
       "    <tr style=\"text-align: right;\">\n",
       "      <th></th>\n",
       "      <th>Price</th>\n",
       "      <th>Landsize</th>\n",
       "      <th>BuildingArea</th>\n",
       "      <th>Distance</th>\n",
       "      <th>Rooms</th>\n",
       "      <th>Bedroom2</th>\n",
       "      <th>Bathroom</th>\n",
       "      <th>Car</th>\n",
       "      <th>Suburb_Aberfeldie</th>\n",
       "      <th>Suburb_Airport West</th>\n",
       "      <th>...</th>\n",
       "      <th>Suburb_Yarra Glen</th>\n",
       "      <th>Suburb_Yarraville</th>\n",
       "      <th>Suburb_croydon</th>\n",
       "      <th>Suburb_viewbank</th>\n",
       "      <th>Type_t</th>\n",
       "      <th>Type_u</th>\n",
       "      <th>Method_S</th>\n",
       "      <th>Method_SA</th>\n",
       "      <th>Method_SP</th>\n",
       "      <th>Method_VB</th>\n",
       "    </tr>\n",
       "  </thead>\n",
       "  <tbody>\n",
       "    <tr>\n",
       "      <th>1</th>\n",
       "      <td>1480000.0</td>\n",
       "      <td>202.0</td>\n",
       "      <td>160.2564</td>\n",
       "      <td>2.5</td>\n",
       "      <td>2.0</td>\n",
       "      <td>2.0</td>\n",
       "      <td>1.0</td>\n",
       "      <td>1.0</td>\n",
       "      <td>0</td>\n",
       "      <td>0</td>\n",
       "      <td>...</td>\n",
       "      <td>0</td>\n",
       "      <td>0</td>\n",
       "      <td>0</td>\n",
       "      <td>0</td>\n",
       "      <td>0</td>\n",
       "      <td>0</td>\n",
       "      <td>1</td>\n",
       "      <td>0</td>\n",
       "      <td>0</td>\n",
       "      <td>0</td>\n",
       "    </tr>\n",
       "    <tr>\n",
       "      <th>2</th>\n",
       "      <td>1035000.0</td>\n",
       "      <td>156.0</td>\n",
       "      <td>79.0000</td>\n",
       "      <td>2.5</td>\n",
       "      <td>2.0</td>\n",
       "      <td>2.0</td>\n",
       "      <td>1.0</td>\n",
       "      <td>0.0</td>\n",
       "      <td>0</td>\n",
       "      <td>0</td>\n",
       "      <td>...</td>\n",
       "      <td>0</td>\n",
       "      <td>0</td>\n",
       "      <td>0</td>\n",
       "      <td>0</td>\n",
       "      <td>0</td>\n",
       "      <td>0</td>\n",
       "      <td>1</td>\n",
       "      <td>0</td>\n",
       "      <td>0</td>\n",
       "      <td>0</td>\n",
       "    </tr>\n",
       "    <tr>\n",
       "      <th>4</th>\n",
       "      <td>1465000.0</td>\n",
       "      <td>134.0</td>\n",
       "      <td>150.0000</td>\n",
       "      <td>2.5</td>\n",
       "      <td>3.0</td>\n",
       "      <td>3.0</td>\n",
       "      <td>2.0</td>\n",
       "      <td>0.0</td>\n",
       "      <td>0</td>\n",
       "      <td>0</td>\n",
       "      <td>...</td>\n",
       "      <td>0</td>\n",
       "      <td>0</td>\n",
       "      <td>0</td>\n",
       "      <td>0</td>\n",
       "      <td>0</td>\n",
       "      <td>0</td>\n",
       "      <td>0</td>\n",
       "      <td>0</td>\n",
       "      <td>1</td>\n",
       "      <td>0</td>\n",
       "    </tr>\n",
       "    <tr>\n",
       "      <th>5</th>\n",
       "      <td>850000.0</td>\n",
       "      <td>94.0</td>\n",
       "      <td>160.2564</td>\n",
       "      <td>2.5</td>\n",
       "      <td>3.0</td>\n",
       "      <td>3.0</td>\n",
       "      <td>2.0</td>\n",
       "      <td>1.0</td>\n",
       "      <td>0</td>\n",
       "      <td>0</td>\n",
       "      <td>...</td>\n",
       "      <td>0</td>\n",
       "      <td>0</td>\n",
       "      <td>0</td>\n",
       "      <td>0</td>\n",
       "      <td>0</td>\n",
       "      <td>0</td>\n",
       "      <td>0</td>\n",
       "      <td>0</td>\n",
       "      <td>0</td>\n",
       "      <td>0</td>\n",
       "    </tr>\n",
       "    <tr>\n",
       "      <th>6</th>\n",
       "      <td>1600000.0</td>\n",
       "      <td>120.0</td>\n",
       "      <td>142.0000</td>\n",
       "      <td>2.5</td>\n",
       "      <td>4.0</td>\n",
       "      <td>3.0</td>\n",
       "      <td>1.0</td>\n",
       "      <td>2.0</td>\n",
       "      <td>0</td>\n",
       "      <td>0</td>\n",
       "      <td>...</td>\n",
       "      <td>0</td>\n",
       "      <td>0</td>\n",
       "      <td>0</td>\n",
       "      <td>0</td>\n",
       "      <td>0</td>\n",
       "      <td>0</td>\n",
       "      <td>0</td>\n",
       "      <td>0</td>\n",
       "      <td>0</td>\n",
       "      <td>1</td>\n",
       "    </tr>\n",
       "  </tbody>\n",
       "</table>\n",
       "<p>5 rows × 356 columns</p>\n",
       "</div>"
      ],
      "text/plain": [
       "       Price  Landsize  BuildingArea  Distance  Rooms  Bedroom2  Bathroom  \\\n",
       "1  1480000.0     202.0      160.2564       2.5    2.0       2.0       1.0   \n",
       "2  1035000.0     156.0       79.0000       2.5    2.0       2.0       1.0   \n",
       "4  1465000.0     134.0      150.0000       2.5    3.0       3.0       2.0   \n",
       "5   850000.0      94.0      160.2564       2.5    3.0       3.0       2.0   \n",
       "6  1600000.0     120.0      142.0000       2.5    4.0       3.0       1.0   \n",
       "\n",
       "   Car  Suburb_Aberfeldie  Suburb_Airport West  ...  Suburb_Yarra Glen  \\\n",
       "1  1.0                  0                    0  ...                  0   \n",
       "2  0.0                  0                    0  ...                  0   \n",
       "4  0.0                  0                    0  ...                  0   \n",
       "5  1.0                  0                    0  ...                  0   \n",
       "6  2.0                  0                    0  ...                  0   \n",
       "\n",
       "   Suburb_Yarraville  Suburb_croydon  Suburb_viewbank  Type_t  Type_u  \\\n",
       "1                  0               0                0       0       0   \n",
       "2                  0               0                0       0       0   \n",
       "4                  0               0                0       0       0   \n",
       "5                  0               0                0       0       0   \n",
       "6                  0               0                0       0       0   \n",
       "\n",
       "   Method_S  Method_SA  Method_SP  Method_VB  \n",
       "1         1          0          0          0  \n",
       "2         1          0          0          0  \n",
       "4         0          0          1          0  \n",
       "5         0          0          0          0  \n",
       "6         0          0          0          1  \n",
       "\n",
       "[5 rows x 356 columns]"
      ]
     },
     "execution_count": 363,
     "metadata": {},
     "output_type": "execute_result"
    }
   ],
   "source": [
    "\n",
    "dataset = pd.get_dummies(dataset,drop_first=True)\n",
    "dataset.head()\n"
   ]
  },
  {
   "cell_type": "code",
   "execution_count": 364,
   "metadata": {},
   "outputs": [],
   "source": [
    "dataset.to_csv('myDataFrame.csv')"
   ]
  },
  {
   "cell_type": "code",
   "execution_count": 365,
   "metadata": {},
   "outputs": [],
   "source": [
    "X = dataset.drop('Price', axis = 1)\n",
    "y = dataset['Price']"
   ]
  },
  {
   "cell_type": "code",
   "execution_count": 366,
   "metadata": {},
   "outputs": [],
   "source": [
    "from sklearn.model_selection import train_test_split\n",
    "train_X, test_X, train_y, test_y = train_test_split(X, y, test_size = 0.3, random_state = 2)"
   ]
  },
  {
   "cell_type": "code",
   "execution_count": 367,
   "metadata": {
    "scrolled": true
   },
   "outputs": [
    {
     "name": "stdout",
     "output_type": "stream",
     "text": [
      "0.6629951523152574\n",
      "0.6596712636874571\n",
      "(355,) (18835, 355)\n"
     ]
    }
   ],
   "source": [
    "from sklearn.linear_model import LinearRegression\n",
    "reg = LinearRegression().fit(train_X, train_y)\n",
    "print(reg.score(train_X, train_y))\n",
    "print(reg.score(test_X, test_y))\n",
    "print(reg.coef_.shape, train_X.shape)"
   ]
  },
  {
   "cell_type": "code",
   "execution_count": 368,
   "metadata": {},
   "outputs": [
    {
     "name": "stdout",
     "output_type": "stream",
     "text": [
      "0.6598332844977806\n",
      "0.657590151360335\n",
      "(355,) (18835, 355)\n"
     ]
    }
   ],
   "source": [
    "from sklearn import linear_model\n",
    "lasso_reg = linear_model.Lasso(alpha = 65, max_iter=100, tol=0.1)\n",
    "lasso_reg.fit(train_X, train_y)\n",
    "print(lasso_reg.score(train_X, train_y))\n",
    "print(lasso_reg.score(test_X, test_y))\n",
    "print(lasso_reg.coef_.shape, train_X.shape )"
   ]
  },
  {
   "cell_type": "code",
   "execution_count": 369,
   "metadata": {},
   "outputs": [
    {
     "name": "stdout",
     "output_type": "stream",
     "text": [
      "0.6556782542076469\n",
      "0.6535839291495502\n",
      "(355,) (18835, 355)\n"
     ]
    }
   ],
   "source": [
    "from sklearn.linear_model import Ridge\n",
    "ridge_reg = Ridge(alpha=10, solver=\"cholesky\",max_iter=100, tol=0.1)\n",
    "ridge_reg.fit(train_X, train_y)\n",
    "print(ridge_reg.score(train_X, train_y))\n",
    "print(ridge_reg.score(test_X, test_y))\n",
    "print(ridge_reg.coef_.shape, train_X.shape )"
   ]
  },
  {
   "cell_type": "code",
   "execution_count": 370,
   "metadata": {},
   "outputs": [
    {
     "name": "stdout",
     "output_type": "stream",
     "text": [
      "0.6493878565402558\n",
      "0.6466919756011028\n",
      "(355,) (18835, 355)\n"
     ]
    }
   ],
   "source": [
    "from sklearn.linear_model import ElasticNet\n",
    "elastic_net_reg = ElasticNet(alpha=.001, l1_ratio=.1)\n",
    "elastic_net_reg.fit(train_X, train_y)\n",
    "print(elastic_net_reg.score(train_X, train_y))\n",
    "print(elastic_net_reg.score(test_X, test_y))\n",
    "print(elastic_net_reg.coef_.shape, train_X.shape )"
   ]
  },
  {
   "cell_type": "code",
   "execution_count": null,
   "metadata": {},
   "outputs": [],
   "source": []
  }
 ],
 "metadata": {
  "kernelspec": {
   "display_name": "Python 3",
   "language": "python",
   "name": "python3"
  },
  "language_info": {
   "codemirror_mode": {
    "name": "ipython",
    "version": 3
   },
   "file_extension": ".py",
   "mimetype": "text/x-python",
   "name": "python",
   "nbconvert_exporter": "python",
   "pygments_lexer": "ipython3",
   "version": "3.7.7"
  }
 },
 "nbformat": 4,
 "nbformat_minor": 4
}
